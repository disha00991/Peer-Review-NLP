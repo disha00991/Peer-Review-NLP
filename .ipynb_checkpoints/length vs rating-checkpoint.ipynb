{
 "cells": [
  {
   "cell_type": "code",
   "execution_count": 228,
   "id": "a2592f64",
   "metadata": {},
   "outputs": [],
   "source": [
    "import collections\n",
    "import glob\n",
    "import json\n",
    "import pandas as pd\n",
    "import seaborn as sns\n",
    "import numpy as np\n",
    "import matplotlib.pyplot as plt\n",
    "pd.set_option('display.max_colwidth', None, 'display.max_rows', None, )\n",
    "\n",
    "dataset_dir = \"./datasets/\"\n",
    "\n",
    "#SUBSETS = \"train dev test\".split()\n",
    "SUBSETS = [\"train\"]\n",
    "\n",
    "\n",
    "datasets = collections.defaultdict(list)\n",
    "\n",
    "for subset in SUBSETS:\n",
    "    for filename in glob.glob(dataset_dir + subset + \"/*\"):\n",
    "        with open(filename, 'r') as f:\n",
    "            datasets[subset].append(json.load(f))\n",
    "            \n",
    "all_pairs = sum(datasets.values(), [])\n",
    "\n",
    "def total_and_average_len(list_of_lists):\n",
    "    big_list = sum(list_of_lists, [])\n",
    "    return len(big_list), len(big_list)/len(list_of_lists)\n",
    "\n",
    "def count_dataset(pairs, subset):\n",
    "    # TODO: Add double-annotated and adjudicated\n",
    "    review_total, review_average = total_and_average_len([pair[\"review_sentences\"] for pair in pairs])\n",
    "    rebuttal_total, rebuttal_average = total_and_average_len([pair[\"rebuttal_sentences\"] for pair in pairs])\n",
    "    return {\n",
    "        \"subset\":subset,\n",
    "        \"pairs\": len(pairs),\n",
    "        \"forums\": len(set(pair[\"metadata\"][\"forum_id\"] for pair in pairs)),\n",
    "        \"adjudicated\": len([pair for pair in pairs if pair[\"metadata\"][\"annotator\"] == \"anno0\"]),\n",
    "        \"review_sentences\": review_total,\n",
    "        \"rebuttal_sentences\": rebuttal_total,\n",
    "        \"review_avg_sentences\": review_average,\n",
    "        \"rebuttal_avg_sentences\": rebuttal_average,\n",
    "        \n",
    "    }\n",
    "# Distribution of examples over sets\n",
    "df_dicts = [count_dataset(pairs, subset) for subset, pairs in datasets.items()]\n",
    "df = pd.DataFrame.from_dict(df_dicts)"
   ]
  },
  {
   "cell_type": "code",
   "execution_count": 235,
   "id": "664cdee1",
   "metadata": {},
   "outputs": [
    {
     "name": "stdout",
     "output_type": "stream",
     "text": [
      "1 Reject Reject\n",
      "7 Reject Reject\n",
      "12 Accept (Poster) Accept\n",
      "15 Accept (Spotlight) Accept\n",
      "17 Accept (Poster) Accept\n",
      "19 Reject Reject\n",
      "22 Reject Reject\n",
      "23 Accept (Poster) Accept\n",
      "24 Accept (Poster) Accept\n",
      "26 Accept (Poster) Accept\n",
      "27 Reject Reject\n",
      "35 Reject Reject\n",
      "36 Accept (Poster) Accept\n",
      "39 Reject Reject\n",
      "40 Reject Reject\n",
      "41 Accept (Talk) Accept\n",
      "43 Accept (Spotlight) Accept\n",
      "49 Reject Reject\n",
      "52 Reject Reject\n",
      "53 Accept (Poster) Accept\n",
      "55 Accept (Poster) Accept\n",
      "57 Reject Reject\n",
      "59 Reject Reject\n",
      "61 Reject Reject\n",
      "64 Accept (Poster) Accept\n",
      "69 Reject Reject\n",
      "70 Reject Reject\n",
      "73 Reject Reject\n",
      "77 Accept (Spotlight) Accept\n",
      "84 Accept (Talk) Accept\n",
      "90 Accept (Poster) Accept\n",
      "91 Reject Reject\n",
      "93 Accept (Poster) Accept\n",
      "95 Reject Reject\n",
      "96 Accept (Poster) Accept\n",
      "98 Reject Reject\n",
      "102 Accept (Poster) Accept\n",
      "108 Reject Reject\n",
      "109 Reject Reject\n",
      "111 Reject Reject\n",
      "115 Reject Reject\n",
      "118 Accept (Poster) Accept\n",
      "119 Reject Reject\n",
      "120 Reject Reject\n",
      "121 Accept (Poster) Accept\n",
      "122 Accept (Poster) Accept\n",
      "125 Reject Reject\n",
      "127 Reject Reject\n",
      "131 Accept (Spotlight) Accept\n",
      "132 Reject Reject\n",
      "133 Reject Reject\n",
      "134 Accept (Spotlight) Accept\n",
      "135 Accept (Poster) Accept\n",
      "139 Accept (Poster) Accept\n",
      "141 Reject Reject\n",
      "145 Reject Reject\n",
      "150 Accept (Talk) Accept\n",
      "151 Reject Reject\n",
      "152 Accept (Poster) Accept\n",
      "153 Accept (Poster) Accept\n",
      "155 Reject Reject\n",
      "159 Accept (Poster) Accept\n",
      "160 Accept (Poster) Accept\n",
      "163 Reject Reject\n",
      "164 Accept (Poster) Accept\n",
      "167 Reject Reject\n",
      "170 Reject Reject\n",
      "181 Reject Reject\n",
      "182 Accept (Poster) Accept\n",
      "184 Accept (Poster) Accept\n",
      "185 Reject Reject\n",
      "195 Reject Reject\n",
      "198 Accept (Poster) Accept\n",
      "199 Accept (Poster) Accept\n",
      "202 Accept (Spotlight) Accept\n",
      "208 Accept (Talk) Accept\n",
      "212 Reject Reject\n",
      "213 Reject Reject\n",
      "214 Reject Reject\n",
      "215 Reject Reject\n",
      "216 Accept (Poster) Accept\n",
      "217 Reject Reject\n",
      "221 Reject Reject\n",
      "224 Reject Reject\n",
      "229 Accept (Poster) Accept\n",
      "234 Reject Reject\n",
      "236 Accept (Spotlight) Accept\n",
      "237 Reject Reject\n",
      "239 Accept (Poster) Accept\n",
      "240 Accept (Poster) Accept\n",
      "241 Reject Reject\n",
      "91\n"
     ]
    }
   ],
   "source": [
    "import openreview\n",
    "\n",
    "guest_client = openreview.Client(baseurl='https://api.openreview.net')\n",
    "c = 0\n",
    "for i, pair in enumerate(all_pairs):\n",
    "    forum_id = pair[\"metadata\"][\"forum_id\"]\n",
    "    forum_notes = guest_client.get_notes(forum=forum_id)\n",
    "\n",
    "    for note in forum_notes:\n",
    "        if note.replyto == forum_id:            \n",
    "            if \"Program_Chairs\" in note.signatures[0]: \n",
    "                c += 1\n",
    "                all_pairs[i]['metadata']['decision'] = 'Reject' if ('Reject' in note.content[\"decision\"]) else 'Accept'\n",
    "                print(i, note.content[\"decision\"], all_pairs[i]['metadata']['decision'])\n",
    "                \n",
    "print(c)"
   ]
  },
  {
   "cell_type": "code",
   "execution_count": 236,
   "id": "4aac30be",
   "metadata": {},
   "outputs": [
    {
     "data": {
      "text/html": [
       "<div>\n",
       "<style scoped>\n",
       "    .dataframe tbody tr th:only-of-type {\n",
       "        vertical-align: middle;\n",
       "    }\n",
       "\n",
       "    .dataframe tbody tr th {\n",
       "        vertical-align: top;\n",
       "    }\n",
       "\n",
       "    .dataframe thead th {\n",
       "        text-align: right;\n",
       "    }\n",
       "</style>\n",
       "<table border=\"1\" class=\"dataframe\">\n",
       "  <thead>\n",
       "    <tr style=\"text-align: right;\">\n",
       "      <th></th>\n",
       "      <th>rev_reb_pair_id</th>\n",
       "      <th>rating</th>\n",
       "      <th># words</th>\n",
       "      <th>type</th>\n",
       "      <th>decision</th>\n",
       "    </tr>\n",
       "  </thead>\n",
       "  <tbody>\n",
       "    <tr>\n",
       "      <th>0</th>\n",
       "      <td>B1ez1LvJcB-rygJHT4DoB</td>\n",
       "      <td>3</td>\n",
       "      <td>332</td>\n",
       "      <td>review</td>\n",
       "      <td>Reject</td>\n",
       "    </tr>\n",
       "    <tr>\n",
       "      <th>1</th>\n",
       "      <td>B1ez1LvJcB-rygJHT4DoB</td>\n",
       "      <td>3</td>\n",
       "      <td>722</td>\n",
       "      <td>rebuttal</td>\n",
       "      <td>Reject</td>\n",
       "    </tr>\n",
       "    <tr>\n",
       "      <th>2</th>\n",
       "      <td>B1lrh6UpYS-BJlcvhU8iS</td>\n",
       "      <td>8</td>\n",
       "      <td>775</td>\n",
       "      <td>review</td>\n",
       "      <td>Reject</td>\n",
       "    </tr>\n",
       "    <tr>\n",
       "      <th>3</th>\n",
       "      <td>B1lrh6UpYS-BJlcvhU8iS</td>\n",
       "      <td>8</td>\n",
       "      <td>365</td>\n",
       "      <td>rebuttal</td>\n",
       "      <td>Reject</td>\n",
       "    </tr>\n",
       "    <tr>\n",
       "      <th>4</th>\n",
       "      <td>B1xXOITI9H-BJlsGxtnsS</td>\n",
       "      <td>6</td>\n",
       "      <td>143</td>\n",
       "      <td>review</td>\n",
       "      <td>Accept</td>\n",
       "    </tr>\n",
       "  </tbody>\n",
       "</table>\n",
       "</div>"
      ],
      "text/plain": [
       "         rev_reb_pair_id  rating  # words      type decision\n",
       "0  B1ez1LvJcB-rygJHT4DoB       3      332    review   Reject\n",
       "1  B1ez1LvJcB-rygJHT4DoB       3      722  rebuttal   Reject\n",
       "2  B1lrh6UpYS-BJlcvhU8iS       8      775    review   Reject\n",
       "3  B1lrh6UpYS-BJlcvhU8iS       8      365  rebuttal   Reject\n",
       "4  B1xXOITI9H-BJlsGxtnsS       6      143    review   Accept"
      ]
     },
     "execution_count": 236,
     "metadata": {},
     "output_type": "execute_result"
    }
   ],
   "source": [
    "# rev-reb-pair-id, rating, rev len, reb len\n",
    "data = []\n",
    "for pair in all_pairs:    \n",
    "    if ('decision' not in pair['metadata']):\n",
    "        continue\n",
    "    rev_len = sum(map(lambda x: len(x['text'].split(' ')), pair['review_sentences']))\n",
    "    reb_len = sum(map(lambda x: len(x['text'].split(' ')), pair['rebuttal_sentences']))\n",
    "    \n",
    "    data.append([pair['metadata']['review_id'] +'-'+ pair['metadata']['rebuttal_id'],\n",
    "    pair['metadata']['rating'], rev_len, 'review', pair['metadata']['decision']])\n",
    "    data.append([pair['metadata']['review_id'] +'-'+ pair['metadata']['rebuttal_id'],\n",
    "    pair['metadata']['rating'], reb_len, 'rebuttal', pair['metadata']['decision']])\n",
    "                 \n",
    "df = pd.DataFrame(data, columns = ['rev_reb_pair_id', 'rating', '# words', 'type', 'decision'])\n",
    "    \n",
    "df.head()   "
   ]
  },
  {
   "cell_type": "code",
   "execution_count": 238,
   "id": "4b23e139",
   "metadata": {},
   "outputs": [
    {
     "data": {
      "text/plain": [
       "Reject    98\n",
       "Accept    84\n",
       "Name: decision, dtype: int64"
      ]
     },
     "execution_count": 238,
     "metadata": {},
     "output_type": "execute_result"
    }
   ],
   "source": [
    "df.decision.value_counts()"
   ]
  },
  {
   "cell_type": "code",
   "execution_count": 239,
   "id": "767f6dc9",
   "metadata": {},
   "outputs": [],
   "source": [
    "sns.set(rc={'figure.figsize':(10, 8)})"
   ]
  },
  {
   "cell_type": "code",
   "execution_count": 240,
   "id": "a8e644db",
   "metadata": {},
   "outputs": [
    {
     "data": {
      "text/plain": [
       "<AxesSubplot:xlabel='decision', ylabel='# words'>"
      ]
     },
     "execution_count": 240,
     "metadata": {},
     "output_type": "execute_result"
    },
    {
     "data": {
      "image/png": "[encoded data removed]",
      "text/plain": [
       "<Figure size 720x576 with 1 Axes>"
      ]
     },
     "metadata": {},
     "output_type": "display_data"
    }
   ],
   "source": [
    "sns.boxplot(x='decision', y='# words', hue='type', data=df)"
   ]
  },
  {
   "cell_type": "code",
   "execution_count": 241,
   "id": "284c08a0",
   "metadata": {},
   "outputs": [
    {
     "data": {
      "text/plain": [
       "<AxesSubplot:xlabel='rating', ylabel='# words'>"
      ]
     },
     "execution_count": 241,
     "metadata": {},
     "output_type": "execute_result"
    },
    {
     "data": {
      "image/png": "[encoded data removed]",
      "text/plain": [
       "<Figure size 720x576 with 1 Axes>"
      ]
     },
     "metadata": {},
     "output_type": "display_data"
    }
   ],
   "source": [
    "sns.boxplot(x='rating', y='# words', hue='type', data=df)"
   ]
  },
  {
   "cell_type": "code",
   "execution_count": 254,
   "id": "312f4cda",
   "metadata": {},
   "outputs": [
    {
     "data": {
      "text/html": [
       "<div>\n",
       "<style scoped>\n",
       "    .dataframe tbody tr th:only-of-type {\n",
       "        vertical-align: middle;\n",
       "    }\n",
       "\n",
       "    .dataframe tbody tr th {\n",
       "        vertical-align: top;\n",
       "    }\n",
       "\n",
       "    .dataframe thead tr th {\n",
       "        text-align: left;\n",
       "    }\n",
       "\n",
       "    .dataframe thead tr:last-of-type th {\n",
       "        text-align: right;\n",
       "    }\n",
       "</style>\n",
       "<table border=\"1\" class=\"dataframe\">\n",
       "  <thead>\n",
       "    <tr>\n",
       "      <th></th>\n",
       "      <th colspan=\"3\" halign=\"left\"># words</th>\n",
       "    </tr>\n",
       "    <tr>\n",
       "      <th></th>\n",
       "      <th>mean</th>\n",
       "      <th>count</th>\n",
       "      <th>median</th>\n",
       "    </tr>\n",
       "    <tr>\n",
       "      <th>rating</th>\n",
       "      <th></th>\n",
       "      <th></th>\n",
       "      <th></th>\n",
       "    </tr>\n",
       "  </thead>\n",
       "  <tbody>\n",
       "    <tr>\n",
       "      <th>1</th>\n",
       "      <td>361.000000</td>\n",
       "      <td>9</td>\n",
       "      <td>250.0</td>\n",
       "    </tr>\n",
       "    <tr>\n",
       "      <th>3</th>\n",
       "      <td>402.379310</td>\n",
       "      <td>29</td>\n",
       "      <td>355.0</td>\n",
       "    </tr>\n",
       "    <tr>\n",
       "      <th>6</th>\n",
       "      <td>365.028571</td>\n",
       "      <td>35</td>\n",
       "      <td>320.0</td>\n",
       "    </tr>\n",
       "    <tr>\n",
       "      <th>8</th>\n",
       "      <td>351.611111</td>\n",
       "      <td>18</td>\n",
       "      <td>270.5</td>\n",
       "    </tr>\n",
       "  </tbody>\n",
       "</table>\n",
       "</div>"
      ],
      "text/plain": [
       "           # words             \n",
       "              mean count median\n",
       "rating                         \n",
       "1       361.000000     9  250.0\n",
       "3       402.379310    29  355.0\n",
       "6       365.028571    35  320.0\n",
       "8       351.611111    18  270.5"
      ]
     },
     "execution_count": 254,
     "metadata": {},
     "output_type": "execute_result"
    }
   ],
   "source": [
    "d = df.loc[df.type == 'review']\n",
    "d.groupby('rating').agg({'# words': ['mean', 'count', 'median']})"
   ]
  },
  {
   "cell_type": "code",
   "execution_count": 255,
   "id": "e895de22",
   "metadata": {},
   "outputs": [
    {
     "data": {
      "text/html": [
       "<div>\n",
       "<style scoped>\n",
       "    .dataframe tbody tr th:only-of-type {\n",
       "        vertical-align: middle;\n",
       "    }\n",
       "\n",
       "    .dataframe tbody tr th {\n",
       "        vertical-align: top;\n",
       "    }\n",
       "\n",
       "    .dataframe thead tr th {\n",
       "        text-align: left;\n",
       "    }\n",
       "\n",
       "    .dataframe thead tr:last-of-type th {\n",
       "        text-align: right;\n",
       "    }\n",
       "</style>\n",
       "<table border=\"1\" class=\"dataframe\">\n",
       "  <thead>\n",
       "    <tr>\n",
       "      <th></th>\n",
       "      <th colspan=\"3\" halign=\"left\"># words</th>\n",
       "    </tr>\n",
       "    <tr>\n",
       "      <th></th>\n",
       "      <th>mean</th>\n",
       "      <th>count</th>\n",
       "      <th>median</th>\n",
       "    </tr>\n",
       "    <tr>\n",
       "      <th>rating</th>\n",
       "      <th></th>\n",
       "      <th></th>\n",
       "      <th></th>\n",
       "    </tr>\n",
       "  </thead>\n",
       "  <tbody>\n",
       "    <tr>\n",
       "      <th>1</th>\n",
       "      <td>446.888889</td>\n",
       "      <td>9</td>\n",
       "      <td>527.0</td>\n",
       "    </tr>\n",
       "    <tr>\n",
       "      <th>3</th>\n",
       "      <td>504.965517</td>\n",
       "      <td>29</td>\n",
       "      <td>456.0</td>\n",
       "    </tr>\n",
       "    <tr>\n",
       "      <th>6</th>\n",
       "      <td>355.714286</td>\n",
       "      <td>35</td>\n",
       "      <td>358.0</td>\n",
       "    </tr>\n",
       "    <tr>\n",
       "      <th>8</th>\n",
       "      <td>275.666667</td>\n",
       "      <td>18</td>\n",
       "      <td>296.0</td>\n",
       "    </tr>\n",
       "  </tbody>\n",
       "</table>\n",
       "</div>"
      ],
      "text/plain": [
       "           # words             \n",
       "              mean count median\n",
       "rating                         \n",
       "1       446.888889     9  527.0\n",
       "3       504.965517    29  456.0\n",
       "6       355.714286    35  358.0\n",
       "8       275.666667    18  296.0"
      ]
     },
     "execution_count": 255,
     "metadata": {},
     "output_type": "execute_result"
    }
   ],
   "source": [
    "c = df.loc[df.type == 'rebuttal']\n",
    "c.groupby('rating').agg({'# words': ['mean', 'count', 'median']})"
   ]
  },
  {
   "cell_type": "code",
   "execution_count": 253,
   "id": "78010449",
   "metadata": {},
   "outputs": [
    {
     "data": {
      "text/plain": [
       "<AxesSubplot:xlabel='rating', ylabel='# words'>"
      ]
     },
     "execution_count": 253,
     "metadata": {},
     "output_type": "execute_result"
    },
    {
     "data": {
      "image/png": "[encoded data removed]",
      "text/plain": [
       "<Figure size 720x576 with 1 Axes>"
      ]
     },
     "metadata": {},
     "output_type": "display_data"
    }
   ],
   "source": [
    "sns.boxplot(x='rating', y='# words', data=c)"
   ]
  },
  {
   "cell_type": "code",
   "execution_count": 256,
   "id": "bba7d6cc",
   "metadata": {},
   "outputs": [],
   "source": [
    "from scipy.stats import ttest_ind_from_stats\n",
    "from scipy import stats"
   ]
  },
  {
   "cell_type": "code",
   "execution_count": 269,
   "id": "6bef54ef",
   "metadata": {},
   "outputs": [
    {
     "name": "stdout",
     "output_type": "stream",
     "text": [
      "CI: 83.15 375.44\n"
     ]
    }
   ],
   "source": [
    "a = c.loc[c.rating == 3,'# words']\n",
    "b = c.loc[c.rating == 8,'# words']\n",
    "\n",
    "def CI(a,b):\n",
    "    mu1 = a.mean()\n",
    "    mu2 = b.mean()\n",
    "    s1 = a.std()\n",
    "    s2 = b.std()\n",
    "    n1 = a.count()\n",
    "    n2 = b.count()\n",
    "    cl = 0.99\n",
    "    std_error = np.sqrt(((s1**2)/n1) + ((s2 ** 2) / n2))\n",
    "    t = stats.norm.isf((1-cl))  # 1 tailed \n",
    "    lower = mu1 - mu2 - t*std_error\n",
    "    upper = mu1 - mu2 + t*std_error\n",
    "\n",
    "    print(\"CI:\", np.round(lower, 2), np.round(upper, 2))\n",
    "    \n",
    "CI(a,b)"
   ]
  },
  {
   "cell_type": "code",
   "execution_count": 270,
   "id": "65844dd2",
   "metadata": {},
   "outputs": [
    {
     "name": "stdout",
     "output_type": "stream",
     "text": [
      "Ttest_indResult(statistic=3.6500198431085917, pvalue=0.0007260025179414504)\n"
     ]
    }
   ],
   "source": [
    "def ttest(a, b):\n",
    "    print(ttest_ind_from_stats(mean1=a.mean(),std1=a.std(),nobs1=a.count(),\n",
    "                     mean2=b.mean(),std2=b.std(),nobs2=b.count(),\n",
    "                     equal_var=False))\n",
    "ttest(a,b)"
   ]
  },
  {
   "cell_type": "code",
   "execution_count": null,
   "id": "28b61ee6",
   "metadata": {},
   "outputs": [],
   "source": []
  },
  {
   "cell_type": "code",
   "execution_count": null,
   "id": "9a8e45a7",
   "metadata": {},
   "outputs": [],
   "source": []
  },
  {
   "cell_type": "code",
   "execution_count": 271,
   "id": "79307707",
   "metadata": {},
   "outputs": [
    {
     "data": {
      "text/plain": [
       "<AxesSubplot:xlabel='rating', ylabel='# sentences'>"
      ]
     },
     "execution_count": 271,
     "metadata": {},
     "output_type": "execute_result"
    },
    {
     "data": {
      "image/png": "[encoded data removed]",
      "text/plain": [
       "<Figure size 720x576 with 1 Axes>"
      ]
     },
     "metadata": {},
     "output_type": "display_data"
    }
   ],
   "source": [
    "data = []\n",
    "for pair in all_pairs:   \n",
    "    if ('decision' not in pair['metadata']):\n",
    "        continue\n",
    "    rev_len = len(pair['review_sentences'])\n",
    "    reb_len = len(pair['rebuttal_sentences'])\n",
    "    \n",
    "    data.append([pair['metadata']['review_id'] +'-'+ pair['metadata']['rebuttal_id'],\n",
    "    pair['metadata']['rating'], rev_len, 'review',  pair['metadata']['decision']])\n",
    "    data.append([pair['metadata']['review_id'] +'-'+ pair['metadata']['rebuttal_id'],\n",
    "    pair['metadata']['rating'], reb_len, 'rebuttal', pair['metadata']['decision']])\n",
    "                 \n",
    "dm = pd.DataFrame(data, columns = ['rev_reb_pair_id', 'rating', '# sentences', 'type', 'decision'])\n",
    "# dm.head()\n",
    "sns.boxplot(x='rating', y='# sentences', hue='type', data=dm)"
   ]
  },
  {
   "cell_type": "code",
   "execution_count": 272,
   "id": "8280751e",
   "metadata": {},
   "outputs": [
    {
     "data": {
      "text/plain": [
       "<AxesSubplot:xlabel='decision', ylabel='# sentences'>"
      ]
     },
     "execution_count": 272,
     "metadata": {},
     "output_type": "execute_result"
    },
    {
     "data": {
      "image/png": "[encoded data removed]",
      "text/plain": [
       "<Figure size 720x576 with 1 Axes>"
      ]
     },
     "metadata": {},
     "output_type": "display_data"
    }
   ],
   "source": [
    "sns.boxplot(x='decision', y='# sentences', hue='type', data=dm)"
   ]
  },
  {
   "cell_type": "code",
   "execution_count": 274,
   "id": "82589467",
   "metadata": {},
   "outputs": [
    {
     "name": "stdout",
     "output_type": "stream",
     "text": [
      "CI: 5.17 19.53\n",
      "Ttest_indResult(statistic=4.001716235234922, pvalue=0.0002822223667738095)\n"
     ]
    }
   ],
   "source": [
    "c = dm.loc[dm.type == 'rebuttal']\n",
    "a = c.loc[c.rating == 3,'# sentences']\n",
    "b = c.loc[c.rating == 8,'# sentences']\n",
    "\n",
    "CI(a,b)\n",
    "ttest(a,b)"
   ]
  },
  {
   "cell_type": "code",
   "execution_count": 245,
   "id": "ca112a1e",
   "metadata": {},
   "outputs": [
    {
     "data": {
      "text/plain": [
       "<AxesSubplot:xlabel='rating', ylabel='# arg sentences'>"
      ]
     },
     "execution_count": 245,
     "metadata": {},
     "output_type": "execute_result"
    },
    {
     "data": {
      "image/png": "[encoded data removed]",
      "text/plain": [
       "<Figure size 720x576 with 1 Axes>"
      ]
     },
     "metadata": {},
     "output_type": "display_data"
    }
   ],
   "source": [
    "data = []\n",
    "for pair in all_pairs:    \n",
    "    if ('decision' not in pair['metadata']):\n",
    "        continue\n",
    "    reb_len = len(list(filter(lambda x: x['coarse']!='nonarg', pair['rebuttal_sentences'])))\n",
    "    \n",
    "    data.append([pair['metadata']['rebuttal_id'],\n",
    "    pair['metadata']['rating'], reb_len/len(pair['rebuttal_sentences']), pair['metadata']['decision']])\n",
    "                 \n",
    "dc = pd.DataFrame(data, columns = ['reb_id', 'rating', '# arg sentences', 'decision'])\n",
    "# dc['# arg sentences'].value_counts()\n",
    "sns.boxplot(x='rating', y='# arg sentences', data=dc)"
   ]
  },
  {
   "cell_type": "code",
   "execution_count": 246,
   "id": "e6b32bec",
   "metadata": {},
   "outputs": [
    {
     "data": {
      "text/plain": [
       "<AxesSubplot:xlabel='decision', ylabel='# arg sentences'>"
      ]
     },
     "execution_count": 246,
     "metadata": {},
     "output_type": "execute_result"
    },
    {
     "data": {
      "image/png": "[encoded data removed]",
      "text/plain": [
       "<Figure size 720x576 with 1 Axes>"
      ]
     },
     "metadata": {},
     "output_type": "display_data"
    }
   ],
   "source": [
    "sns.boxplot(x='decision', y='# arg sentences', data=dc)"
   ]
  },
  {
   "cell_type": "code",
   "execution_count": 276,
   "id": "3ee370bc",
   "metadata": {
    "scrolled": true
   },
   "outputs": [
    {
     "name": "stdout",
     "output_type": "stream",
     "text": [
      "CI: -0.11 0.21\n",
      "Ttest_indResult(statistic=0.694079616595757, pvalue=0.4930196047332279)\n"
     ]
    }
   ],
   "source": [
    "c = dc\n",
    "a = c.loc[c.rating == 3,'# arg sentences']\n",
    "b = c.loc[c.rating == 8,'# arg sentences']\n",
    "\n",
    "CI(a,b)\n",
    "ttest(a,b)"
   ]
  },
  {
   "cell_type": "code",
   "execution_count": 212,
   "id": "e4e5ef7c",
   "metadata": {},
   "outputs": [
    {
     "name": "stdout",
     "output_type": "stream",
     "text": [
      "CI: -3.68 11.93\n"
     ]
    }
   ],
   "source": [
    "a = s.loc[s.rating == '3']['# sentences']\n",
    "b = s.loc[s.rating == '8']['# sentences']\n",
    "\n",
    "mu1 = a.mean()\n",
    "mu2 = b.mean()\n",
    "s1 = a.std()\n",
    "s2 = b.std()\n",
    "n1 = a.count()\n",
    "n2 = b.count()\n",
    "cl = 0.95\n",
    "std_error = np.sqrt(((s1**2)/n1) + ((s2 ** 2) / n2))\n",
    "t = stats.norm.isf((1-cl))  # 1 tailed \n",
    "lower = mu1 - mu2 - t*std_error\n",
    "upper = mu1 - mu2 + t*std_error\n",
    "\n",
    "print(\"CI:\", np.round(lower, 2), np.round(upper, 2))"
   ]
  },
  {
   "cell_type": "markdown",
   "id": "e502ded9",
   "metadata": {},
   "source": [
    "## No of argument sentences may or maynot be related to rebuttal length, but no of words and no. of sentences are highly correlated to the rating. With lower ratings having higher rebuttal lengths (99% Confidence)"
   ]
  }
 ],
 "metadata": {
  "kernelspec": {
   "display_name": "Python 3 (ipykernel)",
   "language": "python",
   "name": "python3"
  },
  "language_info": {
   "codemirror_mode": {
    "name": "ipython",
    "version": 3
   },
   "file_extension": ".py",
   "mimetype": "text/x-python",
   "name": "python",
   "nbconvert_exporter": "python",
   "pygments_lexer": "ipython3",
   "version": "3.9.6"
  }
 },
 "nbformat": 4,
 "nbformat_minor": 5
}
