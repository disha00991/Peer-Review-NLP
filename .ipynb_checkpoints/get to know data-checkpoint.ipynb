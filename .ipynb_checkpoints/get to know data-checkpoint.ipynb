{
 "cells": [
  {
   "cell_type": "code",
   "execution_count": 1,
   "id": "f58434f4",
   "metadata": {},
   "outputs": [],
   "source": [
    "import collections\n",
    "import glob\n",
    "import json\n",
    "import pandas as pd\n",
    "import numpy as np\n",
    "import matplotlib.pyplot as plt\n",
    "pd.set_option('display.max_colwidth', None, 'display.max_rows', None, )\n",
    "\n",
    "dataset_dir = \"./datasets/\"\n",
    "\n",
    "#SUBSETS = \"train dev test\".split()\n",
    "SUBSETS = [\"train\"]\n",
    "\n",
    "\n",
    "datasets = collections.defaultdict(list)\n",
    "\n",
    "for subset in SUBSETS:\n",
    "    for filename in glob.glob(dataset_dir + subset + \"/*\"):\n",
    "        with open(filename, 'r') as f:\n",
    "            datasets[subset].append(json.load(f))\n",
    "            \n",
    "all_pairs = sum(datasets.values(), [])\n",
    "\n",
    "def total_and_average_len(list_of_lists):\n",
    "    big_list = sum(list_of_lists, [])\n",
    "    return len(big_list), len(big_list)/len(list_of_lists)\n",
    "\n",
    "def count_dataset(pairs, subset):\n",
    "    # TODO: Add double-annotated and adjudicated\n",
    "    review_total, review_average = total_and_average_len([pair[\"review_sentences\"] for pair in pairs])\n",
    "    rebuttal_total, rebuttal_average = total_and_average_len([pair[\"rebuttal_sentences\"] for pair in pairs])\n",
    "    return {\n",
    "        \"subset\":subset,\n",
    "        \"pairs\": len(pairs),\n",
    "        \"forums\": len(set(pair[\"metadata\"][\"forum_id\"] for pair in pairs)),\n",
    "        \"adjudicated\": len([pair for pair in pairs if pair[\"metadata\"][\"annotator\"] == \"anno0\"]),\n",
    "        \"review_sentences\": review_total,\n",
    "        \"rebuttal_sentences\": rebuttal_total,\n",
    "        \"review_avg_sentences\": review_average,\n",
    "        \"rebuttal_avg_sentences\": rebuttal_average,\n",
    "        \n",
    "    }\n",
    "# Distribution of examples over sets\n",
    "df_dicts = [count_dataset(pairs, subset) for subset, pairs in datasets.items()]\n",
    "df = pd.DataFrame.from_dict(df_dicts)"
   ]
  },
  {
   "cell_type": "code",
   "execution_count": 2,
   "id": "f9d8c62d",
   "metadata": {},
   "outputs": [
    {
     "ename": "IndexError",
     "evalue": "list index out of range",
     "output_type": "error",
     "traceback": [
      "\u001b[1;31m---------------------------------------------------------------------------\u001b[0m",
      "\u001b[1;31mIndexError\u001b[0m                                Traceback (most recent call last)",
      "\u001b[1;32m~\\AppData\\Local\\Temp/ipykernel_2356/2384284395.py\u001b[0m in \u001b[0;36m<module>\u001b[1;34m\u001b[0m\n\u001b[0;32m      1\u001b[0m \u001b[1;31m# example review sentence\u001b[0m\u001b[1;33m\u001b[0m\u001b[1;33m\u001b[0m\u001b[1;33m\u001b[0m\u001b[0m\n\u001b[1;32m----> 2\u001b[1;33m \u001b[0mit1\u001b[0m \u001b[1;33m=\u001b[0m \u001b[0mall_pairs\u001b[0m\u001b[1;33m[\u001b[0m\u001b[1;36m0\u001b[0m\u001b[1;33m]\u001b[0m\u001b[1;33m\u001b[0m\u001b[1;33m\u001b[0m\u001b[0m\n\u001b[0m\u001b[0;32m      3\u001b[0m \u001b[0msent\u001b[0m \u001b[1;33m=\u001b[0m \u001b[0mit1\u001b[0m\u001b[1;33m[\u001b[0m\u001b[1;34m'review_sentences'\u001b[0m\u001b[1;33m]\u001b[0m\u001b[1;33m\u001b[0m\u001b[1;33m\u001b[0m\u001b[0m\n\u001b[0;32m      4\u001b[0m \u001b[1;33m\u001b[0m\u001b[0m\n\u001b[0;32m      5\u001b[0m \u001b[0msent\u001b[0m\u001b[1;33m[\u001b[0m\u001b[1;36m8\u001b[0m\u001b[1;33m]\u001b[0m\u001b[1;33m\u001b[0m\u001b[1;33m\u001b[0m\u001b[0m\n",
      "\u001b[1;31mIndexError\u001b[0m: list index out of range"
     ]
    }
   ],
   "source": [
    "# example review sentence\n",
    "it1 = all_pairs[0]\n",
    "sent = it1['review_sentences']\n",
    "\n",
    "sent[8]"
   ]
  },
  {
   "cell_type": "markdown",
   "id": "8e2343d1",
   "metadata": {},
   "source": [
    "## Making boxplot for review sentence length v/s rating"
   ]
  },
  {
   "cell_type": "code",
   "execution_count": 3,
   "id": "8e100a59",
   "metadata": {},
   "outputs": [
    {
     "data": {
      "text/html": [
       "<div>\n",
       "<style scoped>\n",
       "    .dataframe tbody tr th:only-of-type {\n",
       "        vertical-align: middle;\n",
       "    }\n",
       "\n",
       "    .dataframe tbody tr th {\n",
       "        vertical-align: top;\n",
       "    }\n",
       "\n",
       "    .dataframe thead th {\n",
       "        text-align: right;\n",
       "    }\n",
       "</style>\n",
       "<table border=\"1\" class=\"dataframe\">\n",
       "  <thead>\n",
       "    <tr style=\"text-align: right;\">\n",
       "      <th></th>\n",
       "      <th>rating</th>\n",
       "      <th>review_sentence_length</th>\n",
       "    </tr>\n",
       "  </thead>\n",
       "  <tbody>\n",
       "    <tr>\n",
       "      <th>0</th>\n",
       "      <td>6</td>\n",
       "      <td>24</td>\n",
       "    </tr>\n",
       "    <tr>\n",
       "      <th>1</th>\n",
       "      <td>3</td>\n",
       "      <td>20</td>\n",
       "    </tr>\n",
       "    <tr>\n",
       "      <th>2</th>\n",
       "      <td>4</td>\n",
       "      <td>21</td>\n",
       "    </tr>\n",
       "    <tr>\n",
       "      <th>3</th>\n",
       "      <td>6</td>\n",
       "      <td>23</td>\n",
       "    </tr>\n",
       "    <tr>\n",
       "      <th>4</th>\n",
       "      <td>7</td>\n",
       "      <td>32</td>\n",
       "    </tr>\n",
       "  </tbody>\n",
       "</table>\n",
       "</div>"
      ],
      "text/plain": [
       "   rating  review_sentence_length\n",
       "0       6                      24\n",
       "1       3                      20\n",
       "2       4                      21\n",
       "3       6                      23\n",
       "4       7                      32"
      ]
     },
     "execution_count": 3,
     "metadata": {},
     "output_type": "execute_result"
    }
   ],
   "source": [
    "ratings = []\n",
    "review_lens = []\n",
    "for i in range(len(all_pairs)):\n",
    "    ratings.append(all_pairs[i]['metadata']['rating'])\n",
    "    review_lens.append(len(all_pairs[i]['review_sentences']))\n",
    "    \n",
    "rating_vs_review_df = pd.DataFrame({'rating': ratings, 'review_sentence_length': review_lens}, columns=['rating', 'review_sentence_length'])\n",
    "rating_vs_review_df.head()"
   ]
  },
  {
   "cell_type": "code",
   "execution_count": 23,
   "id": "ce1de72b",
   "metadata": {},
   "outputs": [
    {
     "data": {
      "text/plain": [
       "Text(0, 0.5, 'Review length (# of sentences)')"
      ]
     },
     "execution_count": 23,
     "metadata": {},
     "output_type": "execute_result"
    },
    {
     "data": {
      "image/png": "[encoded data removed]",
      "text/plain": [
       "<Figure size 432x288 with 1 Axes>"
      ]
     },
     "metadata": {
      "needs_background": "light"
     },
     "output_type": "display_data"
    }
   ],
   "source": [
    "axes = rating_vs_review_df.boxplot(column=['review_sentence_length'], by='rating')\n",
    "axes.set_title('Review length v/s rating')\n",
    "axes.set_xlabel('Rating')\n",
    "axes.set_ylabel('Review length (# of sentences)')"
   ]
  },
  {
   "cell_type": "markdown",
   "id": "d721cb85",
   "metadata": {},
   "source": [
    "# Making scatter plot for review sentence length v/s rebuttal sentence length, colored by rating"
   ]
  },
  {
   "cell_type": "code",
   "execution_count": 17,
   "id": "77d88f5f",
   "metadata": {},
   "outputs": [
    {
     "data": {
      "text/html": [
       "<div>\n",
       "<style scoped>\n",
       "    .dataframe tbody tr th:only-of-type {\n",
       "        vertical-align: middle;\n",
       "    }\n",
       "\n",
       "    .dataframe tbody tr th {\n",
       "        vertical-align: top;\n",
       "    }\n",
       "\n",
       "    .dataframe thead th {\n",
       "        text-align: right;\n",
       "    }\n",
       "</style>\n",
       "<table border=\"1\" class=\"dataframe\">\n",
       "  <thead>\n",
       "    <tr style=\"text-align: right;\">\n",
       "      <th></th>\n",
       "      <th>rating</th>\n",
       "      <th>review_sentence_length</th>\n",
       "      <th>rebuttal_sentence_length</th>\n",
       "    </tr>\n",
       "  </thead>\n",
       "  <tbody>\n",
       "    <tr>\n",
       "      <th>0</th>\n",
       "      <td>6</td>\n",
       "      <td>24</td>\n",
       "      <td>19</td>\n",
       "    </tr>\n",
       "    <tr>\n",
       "      <th>1</th>\n",
       "      <td>3</td>\n",
       "      <td>20</td>\n",
       "      <td>34</td>\n",
       "    </tr>\n",
       "    <tr>\n",
       "      <th>2</th>\n",
       "      <td>4</td>\n",
       "      <td>21</td>\n",
       "      <td>24</td>\n",
       "    </tr>\n",
       "    <tr>\n",
       "      <th>3</th>\n",
       "      <td>6</td>\n",
       "      <td>23</td>\n",
       "      <td>21</td>\n",
       "    </tr>\n",
       "    <tr>\n",
       "      <th>4</th>\n",
       "      <td>7</td>\n",
       "      <td>32</td>\n",
       "      <td>25</td>\n",
       "    </tr>\n",
       "  </tbody>\n",
       "</table>\n",
       "</div>"
      ],
      "text/plain": [
       "   rating  review_sentence_length  rebuttal_sentence_length\n",
       "0       6                      24                        19\n",
       "1       3                      20                        34\n",
       "2       4                      21                        24\n",
       "3       6                      23                        21\n",
       "4       7                      32                        25"
      ]
     },
     "execution_count": 17,
     "metadata": {},
     "output_type": "execute_result"
    }
   ],
   "source": [
    "ratings = []\n",
    "review_lens = []\n",
    "reb_lens = []\n",
    "for i in range(len(all_pairs)):\n",
    "    ratings.append(all_pairs[i]['metadata']['rating'])\n",
    "    review_lens.append(len(all_pairs[i]['review_sentences']))\n",
    "    reb_lens.append(len(all_pairs[i]['rebuttal_sentences']))\n",
    "    \n",
    "reb_vs_review_df = pd.DataFrame({'rating': ratings, 'review_sentence_length': review_lens, 'rebuttal_sentence_length': reb_lens}, columns=['rating', 'review_sentence_length', 'rebuttal_sentence_length'])\n",
    "reb_vs_review_df.head()"
   ]
  },
  {
   "cell_type": "code",
   "execution_count": 24,
   "id": "3edd9e10",
   "metadata": {},
   "outputs": [
    {
     "data": {
      "text/plain": [
       "Text(0, 0.5, 'Review length (# of sentences)')"
      ]
     },
     "execution_count": 24,
     "metadata": {},
     "output_type": "execute_result"
    },
    {
     "data": {
      "image/png": "[encoded data removed]",
      "text/plain": [
       "<Figure size 432x288 with 1 Axes>"
      ]
     },
     "metadata": {
      "needs_background": "light"
     },
     "output_type": "display_data"
    }
   ],
   "source": [
    "axes = reb_vs_review_df.plot.scatter('rebuttal_sentence_length', 'review_sentence_length')\n",
    "axes.set_title('Review length v/s rebuttal length')\n",
    "axes.set_xlabel('Rebuttal length (# of sentences)')\n",
    "axes.set_ylabel('Review length (# of sentences)')"
   ]
  },
  {
   "cell_type": "code",
   "execution_count": 33,
   "id": "016d8d34",
   "metadata": {},
   "outputs": [
    {
     "data": {
      "text/plain": [
       "<matplotlib.legend.Legend at 0x2ba54e25dc0>"
      ]
     },
     "execution_count": 33,
     "metadata": {},
     "output_type": "execute_result"
    },
    {
     "data": {
      "image/png": "[encoded data removed]",
      "text/plain": [
       "<Figure size 432x288 with 1 Axes>"
      ]
     },
     "metadata": {
      "needs_background": "light"
     },
     "output_type": "display_data"
    }
   ],
   "source": [
    "plt.scatter(reb_lens, review_lens, c=ratings)\n",
    "plt.title('Review length v/s rebuttal length')\n",
    "plt.xlabel('Rebuttal length (# of sentences)')\n",
    "plt.ylabel('Review length (# of sentences)')\n",
    "plt.legend(labels=[str(r) for r in ratings])"
   ]
  },
  {
   "cell_type": "code",
   "execution_count": 5,
   "id": "c30c4036",
   "metadata": {},
   "outputs": [
    {
     "data": {
      "text/plain": [
       "Index(['review_id', 'sentence_index', 'text', 'coarse', 'fine', 'asp', 'pol'], dtype='object')"
      ]
     },
     "execution_count": 5,
     "metadata": {},
     "output_type": "execute_result"
    }
   ],
   "source": [
    "df = pd.json_normalize(all_pairs, record_path=['review_sentences'])\n",
    "df.columns"
   ]
  },
  {
   "cell_type": "code",
   "execution_count": 6,
   "id": "81d214e2",
   "metadata": {},
   "outputs": [
    {
     "data": {
      "text/plain": [
       "<AxesSubplot:>"
      ]
     },
     "execution_count": 6,
     "metadata": {},
     "output_type": "execute_result"
    },
    {
     "data": {
      "image/png": "[encoded data removed]",
      "text/plain": [
       "<Figure size 432x288 with 1 Axes>"
      ]
     },
     "metadata": {
      "needs_background": "light"
     },
     "output_type": "display_data"
    }
   ],
   "source": [
    "#aspect\n",
    "df['asp'].value_counts().plot(kind='bar', grid=True)"
   ]
  },
  {
   "cell_type": "code",
   "execution_count": 7,
   "id": "2f4ffd53",
   "metadata": {},
   "outputs": [
    {
     "data": {
      "text/plain": [
       "<AxesSubplot:>"
      ]
     },
     "execution_count": 7,
     "metadata": {},
     "output_type": "execute_result"
    },
    {
     "data": {
      "image/png": "[encoded data removed]",
      "text/plain": [
       "<Figure size 432x288 with 1 Axes>"
      ]
     },
     "metadata": {
      "needs_background": "light"
     },
     "output_type": "display_data"
    }
   ],
   "source": [
    "#polarity\n",
    "df['pol'].value_counts().plot(kind='bar', grid=True, color='red')"
   ]
  },
  {
   "cell_type": "code",
   "execution_count": 8,
   "id": "310cbab8",
   "metadata": {},
   "outputs": [
    {
     "data": {
      "text/plain": [
       "<AxesSubplot:>"
      ]
     },
     "execution_count": 8,
     "metadata": {},
     "output_type": "execute_result"
    },
    {
     "data": {
      "image/png": "[encoded data removed]",
      "text/plain": [
       "<Figure size 432x288 with 1 Axes>"
      ]
     },
     "metadata": {
      "needs_background": "light"
     },
     "output_type": "display_data"
    }
   ],
   "source": [
    "df['fine'].value_counts().plot(kind='bar', grid=True)"
   ]
  },
  {
   "cell_type": "code",
   "execution_count": 9,
   "id": "0cbf4175",
   "metadata": {},
   "outputs": [
    {
     "data": {
      "text/plain": [
       "<AxesSubplot:>"
      ]
     },
     "execution_count": 9,
     "metadata": {},
     "output_type": "execute_result"
    },
    {
     "data": {
      "image/png": "[encoded data removed]",
      "text/plain": [
       "<Figure size 432x288 with 1 Axes>"
      ]
     },
     "metadata": {
      "needs_background": "light"
     },
     "output_type": "display_data"
    }
   ],
   "source": [
    "df['coarse'].value_counts().plot(kind='bar', grid=True)"
   ]
  },
  {
   "cell_type": "code",
   "execution_count": 10,
   "id": "c0b1b63e",
   "metadata": {},
   "outputs": [
    {
     "data": {
      "text/plain": [
       "Index(['review_id', 'sentence_index', 'text', 'coarse', 'fine', 'asp', 'pol'], dtype='object')"
      ]
     },
     "execution_count": 10,
     "metadata": {},
     "output_type": "execute_result"
    }
   ],
   "source": [
    "rf = pd.json_normalize(all_pairs, record_path=['rebuttal_sentences'])\n",
    "df.columns"
   ]
  },
  {
   "cell_type": "code",
   "execution_count": 11,
   "id": "f9f7a5bf",
   "metadata": {},
   "outputs": [
    {
     "data": {
      "text/plain": [
       "{'review_id': 'B1euHOqi37',\n",
       " 'rebuttal_id': 'B1e8djk9Tm',\n",
       " 'sentence_index': 8,\n",
       " 'text': 'The hyper-parameters related to DS-softmax (such as lambda) are tuned according to the performance on a validation dataset.',\n",
       " 'coarse': 'concur',\n",
       " 'fine': 'rebuttal_answer',\n",
       " 'alignment': ['context_sentences', [8]]}"
      ]
     },
     "execution_count": 11,
     "metadata": {},
     "output_type": "execute_result"
    }
   ],
   "source": [
    "# example rebuttal sentence\n",
    "sent_reb = it1['rebuttal_sentences']\n",
    "\n",
    "sent_reb[8]"
   ]
  },
  {
   "cell_type": "code",
   "execution_count": 12,
   "id": "2a31d83a",
   "metadata": {},
   "outputs": [
    {
     "data": {
      "text/plain": [
       "<AxesSubplot:>"
      ]
     },
     "execution_count": 12,
     "metadata": {},
     "output_type": "execute_result"
    },
    {
     "data": {
      "image/png": "[encoded data removed]",
      "text/plain": [
       "<Figure size 432x288 with 1 Axes>"
      ]
     },
     "metadata": {
      "needs_background": "light"
     },
     "output_type": "display_data"
    }
   ],
   "source": [
    "rf['coarse'].value_counts().plot(kind='bar', grid=True)"
   ]
  },
  {
   "cell_type": "code",
   "execution_count": 13,
   "id": "ecf90fb9",
   "metadata": {},
   "outputs": [
    {
     "data": {
      "text/plain": [
       "<AxesSubplot:>"
      ]
     },
     "execution_count": 13,
     "metadata": {},
     "output_type": "execute_result"
    },
    {
     "data": {
      "image/png": "[encoded data removed]",
      "text/plain": [
       "<Figure size 432x288 with 1 Axes>"
      ]
     },
     "metadata": {
      "needs_background": "light"
     },
     "output_type": "display_data"
    }
   ],
   "source": [
    "rf['fine'].value_counts().plot(kind='bar', grid=True)"
   ]
  },
  {
   "cell_type": "code",
   "execution_count": 14,
   "id": "ed767885",
   "metadata": {},
   "outputs": [
    {
     "data": {
      "text/html": [
       "<div>\n",
       "<style scoped>\n",
       "    .dataframe tbody tr th:only-of-type {\n",
       "        vertical-align: middle;\n",
       "    }\n",
       "\n",
       "    .dataframe tbody tr th {\n",
       "        vertical-align: top;\n",
       "    }\n",
       "\n",
       "    .dataframe thead th {\n",
       "        text-align: right;\n",
       "    }\n",
       "</style>\n",
       "<table border=\"1\" class=\"dataframe\">\n",
       "  <thead>\n",
       "    <tr style=\"text-align: right;\">\n",
       "      <th></th>\n",
       "      <th>sentence</th>\n",
       "    </tr>\n",
       "  </thead>\n",
       "  <tbody>\n",
       "    <tr>\n",
       "      <th>5</th>\n",
       "      <td>Mitosis training can be considered as executing Algorithm 1 for multiple times with an increasing number of experts and inherited initialization from last round by changing W^e and W^g.</td>\n",
       "    </tr>\n",
       "    <tr>\n",
       "      <th>6</th>\n",
       "      <td>Also, training with mitosis achieves similar performance as training without it shown in Appendix B, Figure (a).</td>\n",
       "    </tr>\n",
       "    <tr>\n",
       "      <th>38</th>\n",
       "      <td>We already have more material than fits in this paper, especially now that we have added clarifications that all reviewers requested.</td>\n",
       "    </tr>\n",
       "    <tr>\n",
       "      <th>39</th>\n",
       "      <td>We remained with synthetic tasks for two reasons: 1) to illustrate the method in settings we thought would be clearer, 2) because as we highlight in the future directions, there is a lack of meta-learning datasets that contain as structured of relationships between tasks as we consider.</td>\n",
       "    </tr>\n",
       "    <tr>\n",
       "      <th>40</th>\n",
       "      <td>(Taskonomy, for example, has at best a notion of \"similarity\" in terms of transfer.) We are working on creating several such datasets, but we think that this paper as it stands is a useful contribution that illustrates the concept and ideas -- the datasets themselves will also require further description, and including them in a paper of this length would likely result in even more material being cut, and so a less clear presentation.</td>\n",
       "    </tr>\n",
       "    <tr>\n",
       "      <th>57</th>\n",
       "      <td>However, our work differs in two major ways:</td>\n",
       "    </tr>\n",
       "    <tr>\n",
       "      <th>58</th>\n",
       "      <td>i) We focus on showing the uncertainty representation in these methods suffer from overconfident predictions and that combining the two methods into a stochastic ensemble can be of great benefit and improve on the quality of the uncertainty.</td>\n",
       "    </tr>\n",
       "    <tr>\n",
       "      <th>59</th>\n",
       "      <td>ii) We believe the true novelty to be in applying them in an active learning setting, and in particular on a small dataset problem (i.e. the size of the final dataset acquired during AL is only a small fraction of the entire available unlabelled dataset).</td>\n",
       "    </tr>\n",
       "    <tr>\n",
       "      <th>60</th>\n",
       "      <td>As you mentioned, data is notoriously scarce and deep learning methods rarely work on small dataset problems.</td>\n",
       "    </tr>\n",
       "    <tr>\n",
       "      <th>71</th>\n",
       "      <td>3) The aim of the paper was to improve upon the state-of-the-art in active learning for the image classification task.</td>\n",
       "    </tr>\n",
       "  </tbody>\n",
       "</table>\n",
       "</div>"
      ],
      "text/plain": [
       "                                                                                                                                                                                                                                                                                                                                                                                                                                                  sentence\n",
       "5                                                                                                                                                                                                                                                                Mitosis training can be considered as executing Algorithm 1 for multiple times with an increasing number of experts and inherited initialization from last round by changing W^e and W^g.\n",
       "6                                                                                                                                                                                                                                                                                                                                         Also, training with mitosis achieves similar performance as training without it shown in Appendix B, Figure (a).\n",
       "38                                                                                                                                                                                                                                                                                                                   We already have more material than fits in this paper, especially now that we have added clarifications that all reviewers requested.\n",
       "39                                                                                                                                                         We remained with synthetic tasks for two reasons: 1) to illustrate the method in settings we thought would be clearer, 2) because as we highlight in the future directions, there is a lack of meta-learning datasets that contain as structured of relationships between tasks as we consider.\n",
       "40  (Taskonomy, for example, has at best a notion of \"similarity\" in terms of transfer.) We are working on creating several such datasets, but we think that this paper as it stands is a useful contribution that illustrates the concept and ideas -- the datasets themselves will also require further description, and including them in a paper of this length would likely result in even more material being cut, and so a less clear presentation.\n",
       "57                                                                                                                                                                                                                                                                                                                                                                                                            However, our work differs in two major ways:\n",
       "58                                                                                                                                                                                                       i) We focus on showing the uncertainty representation in these methods suffer from overconfident predictions and that combining the two methods into a stochastic ensemble can be of great benefit and improve on the quality of the uncertainty.\n",
       "59                                                                                                                                                                                         ii) We believe the true novelty to be in applying them in an active learning setting, and in particular on a small dataset problem (i.e. the size of the final dataset acquired during AL is only a small fraction of the entire available unlabelled dataset).\n",
       "60                                                                                                                                                                                                                                                                                                                                           As you mentioned, data is notoriously scarce and deep learning methods rarely work on small dataset problems.\n",
       "71                                                                                                                                                                                                                                                                                                                                  3) The aim of the paper was to improve upon the state-of-the-art in active learning for the image classification task."
      ]
     },
     "execution_count": 14,
     "metadata": {},
     "output_type": "execute_result"
    }
   ],
   "source": [
    "pivot_reb_ans = pd.DataFrame({'sentence': rf.loc[rf.fine == 'rebuttal_reject-criticism', 'text']}, columns=['sentence'])\n",
    "pivot_reb_ans.head(10)"
   ]
  },
  {
   "cell_type": "markdown",
   "id": "e936e693",
   "metadata": {},
   "source": [
    "# Finding Politeness"
   ]
  },
  {
   "cell_type": "code",
   "execution_count": 38,
   "id": "861c2cc6",
   "metadata": {},
   "outputs": [
    {
     "data": {
      "text/plain": [
       "21"
      ]
     },
     "execution_count": 38,
     "metadata": {},
     "output_type": "execute_result"
    }
   ],
   "source": []
  },
  {
   "cell_type": "code",
   "execution_count": 27,
   "id": "5b83ce21",
   "metadata": {},
   "outputs": [
    {
     "data": {
      "text/html": [
       "<div>\n",
       "<style scoped>\n",
       "    .dataframe tbody tr th:only-of-type {\n",
       "        vertical-align: middle;\n",
       "    }\n",
       "\n",
       "    .dataframe tbody tr th {\n",
       "        vertical-align: top;\n",
       "    }\n",
       "\n",
       "    .dataframe thead th {\n",
       "        text-align: right;\n",
       "    }\n",
       "</style>\n",
       "<table border=\"1\" class=\"dataframe\">\n",
       "  <thead>\n",
       "    <tr style=\"text-align: right;\">\n",
       "      <th></th>\n",
       "      <th>review_id</th>\n",
       "      <th>sentence_index</th>\n",
       "      <th>text</th>\n",
       "      <th>coarse</th>\n",
       "      <th>fine</th>\n",
       "      <th>asp</th>\n",
       "      <th>pol</th>\n",
       "    </tr>\n",
       "  </thead>\n",
       "  <tbody>\n",
       "    <tr>\n",
       "      <th>0</th>\n",
       "      <td>B1ez1LvJcB</td>\n",
       "      <td>0</td>\n",
       "      <td>This paper presents a method for adapting a model that has been trained to perform one task, so that it can perform a new task (potentially without using any new training data at all—i.e., zero-shot learning).</td>\n",
       "      <td>arg_structuring</td>\n",
       "      <td>arg-structuring_summary</td>\n",
       "      <td>none</td>\n",
       "      <td>none</td>\n",
       "    </tr>\n",
       "    <tr>\n",
       "      <th>1</th>\n",
       "      <td>B1ez1LvJcB</td>\n",
       "      <td>1</td>\n",
       "      <td>In some ways the presented work is a form of meta-learning or *meta-mapping* as the authors refer to it.</td>\n",
       "      <td>arg_structuring</td>\n",
       "      <td>arg-structuring_summary</td>\n",
       "      <td>none</td>\n",
       "      <td>none</td>\n",
       "    </tr>\n",
       "    <tr>\n",
       "      <th>2</th>\n",
       "      <td>B1ez1LvJcB</td>\n",
       "      <td>2</td>\n",
       "      <td>The premise of the paper is very interesting and the overall problem is definitely of high interest and high potential impact.</td>\n",
       "      <td>arg_evaluative</td>\n",
       "      <td>none</td>\n",
       "      <td>asp_motivation-impact</td>\n",
       "      <td>pol_positive</td>\n",
       "    </tr>\n",
       "    <tr>\n",
       "      <th>3</th>\n",
       "      <td>B1ez1LvJcB</td>\n",
       "      <td>3</td>\n",
       "      <td>I believe that the presentation of the proposed method can be significantly improved.</td>\n",
       "      <td>arg_request</td>\n",
       "      <td>arg-request_edit</td>\n",
       "      <td>asp_clarity</td>\n",
       "      <td>pol_negative</td>\n",
       "    </tr>\n",
       "    <tr>\n",
       "      <th>4</th>\n",
       "      <td>B1ez1LvJcB</td>\n",
       "      <td>4</td>\n",
       "      <td>The method description was a bit confusing and unclear to me.</td>\n",
       "      <td>arg_evaluative</td>\n",
       "      <td>none</td>\n",
       "      <td>asp_clarity</td>\n",
       "      <td>pol_negative</td>\n",
       "    </tr>\n",
       "    <tr>\n",
       "      <th>5</th>\n",
       "      <td>B1ez1LvJcB</td>\n",
       "      <td>5</td>\n",
       "      <td>The experimental results presented were all done on small synthetic datasets and it’s hard to evaluate whether the method is practically useful.</td>\n",
       "      <td>arg_evaluative</td>\n",
       "      <td>none</td>\n",
       "      <td>asp_substance</td>\n",
       "      <td>pol_negative</td>\n",
       "    </tr>\n",
       "    <tr>\n",
       "      <th>6</th>\n",
       "      <td>B1ez1LvJcB</td>\n",
       "      <td>6</td>\n",
       "      <td>Furthermore, no comparisons were provided to any baselines/alternative methods.</td>\n",
       "      <td>arg_evaluative</td>\n",
       "      <td>none</td>\n",
       "      <td>asp_meaningful-comparison</td>\n",
       "      <td>pol_negative</td>\n",
       "    </tr>\n",
       "    <tr>\n",
       "      <th>7</th>\n",
       "      <td>B1ez1LvJcB</td>\n",
       "      <td>7</td>\n",
       "      <td>For example, in Sections 4 and 5 I was hoping to see comparisons to methods like MAML.</td>\n",
       "      <td>arg_request</td>\n",
       "      <td>arg-request_experiment</td>\n",
       "      <td>asp_meaningful-comparison</td>\n",
       "      <td>pol_negative</td>\n",
       "    </tr>\n",
       "    <tr>\n",
       "      <th>8</th>\n",
       "      <td>B1ez1LvJcB</td>\n",
       "      <td>8</td>\n",
       "      <td>Also, I felt that the proposed approach in Section 5 is very similar to MAML intuitively. This makes a comparison with MAML even more desirable.</td>\n",
       "      <td>arg_request</td>\n",
       "      <td>arg-request_experiment</td>\n",
       "      <td>asp_meaningful-comparison</td>\n",
       "      <td>pol_neutral</td>\n",
       "    </tr>\n",
       "    <tr>\n",
       "      <th>9</th>\n",
       "      <td>B1ez1LvJcB</td>\n",
       "      <td>9</td>\n",
       "      <td>Without any comparisons it’s hard to tell how difficult the tasks under consideration are and what would amount to good performance on the held-out tasks.</td>\n",
       "      <td>arg_evaluative</td>\n",
       "      <td>none</td>\n",
       "      <td>asp_soundness-correctness</td>\n",
       "      <td>pol_negative</td>\n",
       "    </tr>\n",
       "    <tr>\n",
       "      <th>10</th>\n",
       "      <td>B1ez1LvJcB</td>\n",
       "      <td>10</td>\n",
       "      <td>In summary, I feel the paper tackles an interesting problem with an interesting approach, but the content could be organized much better.</td>\n",
       "      <td>arg_evaluative</td>\n",
       "      <td>none</td>\n",
       "      <td>asp_motivation-impact</td>\n",
       "      <td>pol_positive</td>\n",
       "    </tr>\n",
       "    <tr>\n",
       "      <th>11</th>\n",
       "      <td>B1ez1LvJcB</td>\n",
       "      <td>11</td>\n",
       "      <td>Also, this work would benefit significantly from a better experimental evaluation.</td>\n",
       "      <td>arg_request</td>\n",
       "      <td>arg-request_experiment</td>\n",
       "      <td>asp_substance</td>\n",
       "      <td>pol_neutral</td>\n",
       "    </tr>\n",
       "    <tr>\n",
       "      <th>12</th>\n",
       "      <td>B1ez1LvJcB</td>\n",
       "      <td>12</td>\n",
       "      <td>For these reasons I lean towards rejecting this paper for now, but would love to see it refined for a future machine learning conference.</td>\n",
       "      <td>arg_social</td>\n",
       "      <td>none</td>\n",
       "      <td>none</td>\n",
       "      <td>none</td>\n",
       "    </tr>\n",
       "    <tr>\n",
       "      <th>13</th>\n",
       "      <td>B1ez1LvJcB</td>\n",
       "      <td>13</td>\n",
       "      <td>Also, the work by Platanios, et al. on contextual parameter generation is very relevant to this work as it tackles multi-task learning using HyperNetworks.</td>\n",
       "      <td>arg_fact</td>\n",
       "      <td>none</td>\n",
       "      <td>none</td>\n",
       "      <td>none</td>\n",
       "    </tr>\n",
       "    <tr>\n",
       "      <th>14</th>\n",
       "      <td>B1ez1LvJcB</td>\n",
       "      <td>14</td>\n",
       "      <td>It may be worth adding a short discussion/comparison to that work as it also considers zero-shot learning.</td>\n",
       "      <td>arg_request</td>\n",
       "      <td>arg-request_experiment</td>\n",
       "      <td>asp_meaningful-comparison</td>\n",
       "      <td>pol_neutral</td>\n",
       "    </tr>\n",
       "    <tr>\n",
       "      <th>15</th>\n",
       "      <td>B1ez1LvJcB</td>\n",
       "      <td>15</td>\n",
       "      <td>Minor comments:</td>\n",
       "      <td>arg_structuring</td>\n",
       "      <td>arg-structuring_heading</td>\n",
       "      <td>none</td>\n",
       "      <td>none</td>\n",
       "    </tr>\n",
       "    <tr>\n",
       "      <th>16</th>\n",
       "      <td>B1ez1LvJcB</td>\n",
       "      <td>16</td>\n",
       "      <td>- Capitalize: “section” -&gt; “Section”, “appendix” -&gt; “Appendix”, “fig.” -&gt; “Figure”.</td>\n",
       "      <td>arg_request</td>\n",
       "      <td>arg-request_typo</td>\n",
       "      <td>asp_clarity</td>\n",
       "      <td>pol_neutral</td>\n",
       "    </tr>\n",
       "    <tr>\n",
       "      <th>17</th>\n",
       "      <td>B1ez1LvJcB</td>\n",
       "      <td>17</td>\n",
       "      <td>Sometimes these are capitalized, but the use is inconsistent throughout the paper.</td>\n",
       "      <td>arg_evaluative</td>\n",
       "      <td>none</td>\n",
       "      <td>asp_clarity</td>\n",
       "      <td>pol_negative</td>\n",
       "    </tr>\n",
       "    <tr>\n",
       "      <th>18</th>\n",
       "      <td>B1ez1LvJcB</td>\n",
       "      <td>18</td>\n",
       "      <td>- “Hold-out” vs “held-out” .</td>\n",
       "      <td>arg_request</td>\n",
       "      <td>arg-request_typo</td>\n",
       "      <td>asp_clarity</td>\n",
       "      <td>pol_neutral</td>\n",
       "    </tr>\n",
       "    <tr>\n",
       "      <th>19</th>\n",
       "      <td>B1ez1LvJcB</td>\n",
       "      <td>20</td>\n",
       "      <td>Be consistent and use “held-out” throughout.</td>\n",
       "      <td>arg_request</td>\n",
       "      <td>arg-request_edit</td>\n",
       "      <td>asp_clarity</td>\n",
       "      <td>pol_neutral</td>\n",
       "    </tr>\n",
       "  </tbody>\n",
       "</table>\n",
       "</div>"
      ],
      "text/plain": [
       "     review_id  sentence_index  \\\n",
       "0   B1ez1LvJcB               0   \n",
       "1   B1ez1LvJcB               1   \n",
       "2   B1ez1LvJcB               2   \n",
       "3   B1ez1LvJcB               3   \n",
       "4   B1ez1LvJcB               4   \n",
       "5   B1ez1LvJcB               5   \n",
       "6   B1ez1LvJcB               6   \n",
       "7   B1ez1LvJcB               7   \n",
       "8   B1ez1LvJcB               8   \n",
       "9   B1ez1LvJcB               9   \n",
       "10  B1ez1LvJcB              10   \n",
       "11  B1ez1LvJcB              11   \n",
       "12  B1ez1LvJcB              12   \n",
       "13  B1ez1LvJcB              13   \n",
       "14  B1ez1LvJcB              14   \n",
       "15  B1ez1LvJcB              15   \n",
       "16  B1ez1LvJcB              16   \n",
       "17  B1ez1LvJcB              17   \n",
       "18  B1ez1LvJcB              18   \n",
       "19  B1ez1LvJcB              20   \n",
       "\n",
       "                                                                                                                                                                                                                 text  \\\n",
       "0   This paper presents a method for adapting a model that has been trained to perform one task, so that it can perform a new task (potentially without using any new training data at all—i.e., zero-shot learning).   \n",
       "1                                                                                                            In some ways the presented work is a form of meta-learning or *meta-mapping* as the authors refer to it.   \n",
       "2                                                                                      The premise of the paper is very interesting and the overall problem is definitely of high interest and high potential impact.   \n",
       "3                                                                                                                               I believe that the presentation of the proposed method can be significantly improved.   \n",
       "4                                                                                                                                                       The method description was a bit confusing and unclear to me.   \n",
       "5                                                                    The experimental results presented were all done on small synthetic datasets and it’s hard to evaluate whether the method is practically useful.   \n",
       "6                                                                                                                                     Furthermore, no comparisons were provided to any baselines/alternative methods.   \n",
       "7                                                                                                                              For example, in Sections 4 and 5 I was hoping to see comparisons to methods like MAML.   \n",
       "8                                                                    Also, I felt that the proposed approach in Section 5 is very similar to MAML intuitively. This makes a comparison with MAML even more desirable.   \n",
       "9                                                          Without any comparisons it’s hard to tell how difficult the tasks under consideration are and what would amount to good performance on the held-out tasks.   \n",
       "10                                                                          In summary, I feel the paper tackles an interesting problem with an interesting approach, but the content could be organized much better.   \n",
       "11                                                                                                                                 Also, this work would benefit significantly from a better experimental evaluation.   \n",
       "12                                                                          For these reasons I lean towards rejecting this paper for now, but would love to see it refined for a future machine learning conference.   \n",
       "13                                                        Also, the work by Platanios, et al. on contextual parameter generation is very relevant to this work as it tackles multi-task learning using HyperNetworks.   \n",
       "14                                                                                                         It may be worth adding a short discussion/comparison to that work as it also considers zero-shot learning.   \n",
       "15                                                                                                                                                                                                    Minor comments:   \n",
       "16                                                                                                                                - Capitalize: “section” -> “Section”, “appendix” -> “Appendix”, “fig.” -> “Figure”.   \n",
       "17                                                                                                                                 Sometimes these are capitalized, but the use is inconsistent throughout the paper.   \n",
       "18                                                                                                                                                                                       - “Hold-out” vs “held-out” .   \n",
       "19                                                                                                                                                                       Be consistent and use “held-out” throughout.   \n",
       "\n",
       "             coarse                     fine                        asp  \\\n",
       "0   arg_structuring  arg-structuring_summary                       none   \n",
       "1   arg_structuring  arg-structuring_summary                       none   \n",
       "2    arg_evaluative                     none      asp_motivation-impact   \n",
       "3       arg_request         arg-request_edit                asp_clarity   \n",
       "4    arg_evaluative                     none                asp_clarity   \n",
       "5    arg_evaluative                     none              asp_substance   \n",
       "6    arg_evaluative                     none  asp_meaningful-comparison   \n",
       "7       arg_request   arg-request_experiment  asp_meaningful-comparison   \n",
       "8       arg_request   arg-request_experiment  asp_meaningful-comparison   \n",
       "9    arg_evaluative                     none  asp_soundness-correctness   \n",
       "10   arg_evaluative                     none      asp_motivation-impact   \n",
       "11      arg_request   arg-request_experiment              asp_substance   \n",
       "12       arg_social                     none                       none   \n",
       "13         arg_fact                     none                       none   \n",
       "14      arg_request   arg-request_experiment  asp_meaningful-comparison   \n",
       "15  arg_structuring  arg-structuring_heading                       none   \n",
       "16      arg_request         arg-request_typo                asp_clarity   \n",
       "17   arg_evaluative                     none                asp_clarity   \n",
       "18      arg_request         arg-request_typo                asp_clarity   \n",
       "19      arg_request         arg-request_edit                asp_clarity   \n",
       "\n",
       "             pol  \n",
       "0           none  \n",
       "1           none  \n",
       "2   pol_positive  \n",
       "3   pol_negative  \n",
       "4   pol_negative  \n",
       "5   pol_negative  \n",
       "6   pol_negative  \n",
       "7   pol_negative  \n",
       "8    pol_neutral  \n",
       "9   pol_negative  \n",
       "10  pol_positive  \n",
       "11   pol_neutral  \n",
       "12          none  \n",
       "13          none  \n",
       "14   pol_neutral  \n",
       "15          none  \n",
       "16   pol_neutral  \n",
       "17  pol_negative  \n",
       "18   pol_neutral  \n",
       "19   pol_neutral  "
      ]
     },
     "execution_count": 27,
     "metadata": {},
     "output_type": "execute_result"
    }
   ],
   "source": []
  },
  {
   "cell_type": "code",
   "execution_count": 36,
   "id": "0a87b4ee",
   "metadata": {},
   "outputs": [
    {
     "data": {
      "text/html": [
       "<div>\n",
       "<style scoped>\n",
       "    .dataframe tbody tr th:only-of-type {\n",
       "        vertical-align: middle;\n",
       "    }\n",
       "\n",
       "    .dataframe tbody tr th {\n",
       "        vertical-align: top;\n",
       "    }\n",
       "\n",
       "    .dataframe thead th {\n",
       "        text-align: right;\n",
       "    }\n",
       "</style>\n",
       "<table border=\"1\" class=\"dataframe\">\n",
       "  <thead>\n",
       "    <tr style=\"text-align: right;\">\n",
       "      <th></th>\n",
       "      <th>timestamp</th>\n",
       "      <th>text</th>\n",
       "      <th>speaker</th>\n",
       "      <th>reply_to</th>\n",
       "      <th>conversation_id</th>\n",
       "      <th>meta.parsed</th>\n",
       "      <th>meta.politeness_markers</th>\n",
       "      <th>meta.politeness_strategies</th>\n",
       "    </tr>\n",
       "    <tr>\n",
       "      <th>id</th>\n",
       "      <th></th>\n",
       "      <th></th>\n",
       "      <th></th>\n",
       "      <th></th>\n",
       "      <th></th>\n",
       "      <th></th>\n",
       "      <th></th>\n",
       "      <th></th>\n",
       "    </tr>\n",
       "  </thead>\n",
       "  <tbody>\n",
       "    <tr>\n",
       "      <th>NaN</th>\n",
       "      <td>None</td>\n",
       "      <td>The theoretical proof depends on the convexity assumption, I would also suggest comparing the proposed attack with CW and other benchmarks on some simple models that satisfy the assumptions.</td>\n",
       "      <td>reviewer_id0</td>\n",
       "      <td>None</td>\n",
       "      <td>None</td>\n",
       "      <td>[{'rt': 12, 'toks': [{'tok': 'the', 'tag': 'DT', 'dep': 'det', 'up': 2, 'dn': []}, {'tok': 'theoretical', 'tag': 'JJ', 'dep': 'amod', 'up': 2, 'dn': []}, {'tok': 'proof', 'tag': 'NN', 'dep': 'nsubj', 'up': 3, 'dn': [0, 1]}, {'tok': 'depends', 'tag': 'VBZ', 'dep': 'ccomp', 'up': 12, 'dn': [2, 4]}, {'tok': 'on', 'tag': 'IN', 'dep': 'prep', 'up': 3, 'dn': [7]}, {'tok': 'the', 'tag': 'DT', 'dep': 'det', 'up': 7, 'dn': []}, {'tok': 'convexity', 'tag': 'NN', 'dep': 'compound', 'up': 7, 'dn': []}, {'tok': 'assumption', 'tag': 'NN', 'dep': 'pobj', 'up': 4, 'dn': [5, 6]}, {'tok': ',', 'tag': ',', 'dep': 'punct', 'up': 12, 'dn': []}, {'tok': 'i', 'tag': 'PRP', 'dep': 'nsubj', 'up': 12, 'dn': []}, {'tok': 'would', 'tag': 'MD', 'dep': 'aux', 'up': 12, 'dn': []}, {'tok': 'also', 'tag': 'RB', 'dep': 'advmod', 'up': 12, 'dn': []}, {'tok': 'suggest', 'tag': 'VB', 'dep': 'ROOT', 'dn': [3, 8, 9, 10, 11, 13, 30]}, {'tok': 'comparing', 'tag': 'VBG', 'dep': 'xcomp', 'up': 12, 'dn': [16]}, {'tok': 'the', 'tag': 'DT', 'dep': 'det', 'up': 16, 'dn': []}, {'tok': 'proposed', 'tag': 'VBN', 'dep': 'amod', 'up': 16, 'dn': []}, {'tok': 'attack', 'tag': 'NN', 'dep': 'dobj', 'up': 13, 'dn': [14, 15, 17, 22]}, {'tok': 'with', 'tag': 'IN', 'dep': 'prep', 'up': 16, 'dn': [18]}, {'tok': 'cw', 'tag': 'NNP', 'dep': 'pobj', 'up': 17, 'dn': [19, 21]}, {'tok': 'and', 'tag': 'CC', 'dep': 'cc', 'up': 18, 'dn': []}, {'tok': 'other', 'tag': 'JJ', 'dep': 'amod', 'up': 21, 'dn': []}, {'tok': 'benchmarks', 'tag': 'NNS', 'dep': 'conj', 'up': 18, 'dn': [20]}, {'tok': 'on', 'tag': 'IN', 'dep': 'prep', 'up': 16, 'dn': [25]}, {'tok': 'some', 'tag': 'DT', 'dep': 'det', 'up': 25, 'dn': []}, {'tok': 'simple', 'tag': 'JJ', 'dep': 'amod', 'up': 25, 'dn': []}, {'tok': 'models', 'tag': 'NNS', 'dep': 'pobj', 'up': 22, 'dn': [23, 24, 27]}, {'tok': 'that', 'tag': 'WDT', 'dep': 'nsubj', 'up': 27, 'dn': []}, {'tok': 'satisfy', 'tag': 'VBP', 'dep': 'relcl', 'up': 25, 'dn': [26, 29]}, {'tok': 'the', 'tag': 'DT', 'dep': 'det', 'up': 29, 'dn': []}, {'tok': 'assumptions', 'tag': 'NNS', 'dep': 'dobj', 'up': 27, 'dn': [28]}, {'tok': '.', 'tag': '.', 'dep': 'punct', 'up': 12, 'dn': []}]}]</td>\n",
       "      <td>{'politeness_markers_==Please==': [], 'politeness_markers_==Please_start==': [], 'politeness_markers_==HASHEDGE==': [[('suggest', 0, 12)]], 'politeness_markers_==Indirect_(btw)==': [], 'politeness_markers_==Hedges==': [[('i', 0, 9), ('suggest', 0, 12)]], 'politeness_markers_==Factuality==': [], 'politeness_markers_==Deference==': [], 'politeness_markers_==Gratitude==': [], 'politeness_markers_==Apologizing==': [], 'politeness_markers_==1st_person_pl.==': [], 'politeness_markers_==1st_person==': [[('i', 0, 9)]], 'politeness_markers_==1st_person_start==': [], 'politeness_markers_==2nd_person==': [], 'politeness_markers_==2nd_person_start==': [], 'politeness_markers_==Indirect_(greeting)==': [], 'politeness_markers_==Direct_question==': [], 'politeness_markers_==Direct_start==': [], 'politeness_markers_==HASPOSITIVE==': [[('satisfy', 0, 27)]], 'politeness_markers_==HASNEGATIVE==': [[('attack', 0, 16)]], 'politeness_markers_==SUBJUNCTIVE==': [], 'politeness_markers_==INDICATIVE==': []}</td>\n",
       "      <td>{'feature_politeness_==Please==': 0, 'feature_politeness_==Please_start==': 0, 'feature_politeness_==HASHEDGE==': 1, 'feature_politeness_==Indirect_(btw)==': 0, 'feature_politeness_==Hedges==': 1, 'feature_politeness_==Factuality==': 0, 'feature_politeness_==Deference==': 0, 'feature_politeness_==Gratitude==': 0, 'feature_politeness_==Apologizing==': 0, 'feature_politeness_==1st_person_pl.==': 0, 'feature_politeness_==1st_person==': 1, 'feature_politeness_==1st_person_start==': 0, 'feature_politeness_==2nd_person==': 0, 'feature_politeness_==2nd_person_start==': 0, 'feature_politeness_==Indirect_(greeting)==': 0, 'feature_politeness_==Direct_question==': 0, 'feature_politeness_==Direct_start==': 0, 'feature_politeness_==HASPOSITIVE==': 1, 'feature_politeness_==HASNEGATIVE==': 1, 'feature_politeness_==SUBJUNCTIVE==': 0, 'feature_politeness_==INDICATIVE==': 0}</td>\n",
       "    </tr>\n",
       "  </tbody>\n",
       "</table>\n",
       "</div>"
      ],
      "text/plain": [
       "    timestamp  \\\n",
       "id              \n",
       "NaN      None   \n",
       "\n",
       "                                                                                                                                                                                               text  \\\n",
       "id                                                                                                                                                                                                    \n",
       "NaN  The theoretical proof depends on the convexity assumption, I would also suggest comparing the proposed attack with CW and other benchmarks on some simple models that satisfy the assumptions.   \n",
       "\n",
       "          speaker reply_to conversation_id  \\\n",
       "id                                           \n",
       "NaN  reviewer_id0     None            None   \n",
       "\n",
       "                                                                                                                                                                                                                                                                                                                                                                                                                                                                                                                                                                                                                                                                                                                                                                                                                                                                                                                                                                                                                                                                                                                                                                                                                                                                                                                                                                                                                                                                                                                                                                                                                                                                                                                                                                                                                                                                                                                                                                                                                                                                                                                                                                                                                                    meta.parsed  \\\n",
       "id                                                                                                                                                                                                                                                                                                                                                                                                                                                                                                                                                                                                                                                                                                                                                                                                                                                                                                                                                                                                                                                                                                                                                                                                                                                                                                                                                                                                                                                                                                                                                                                                                                                                                                                                                                                                                                                                                                                                                                                                                                                                                                                                                                                                                                                \n",
       "NaN  [{'rt': 12, 'toks': [{'tok': 'the', 'tag': 'DT', 'dep': 'det', 'up': 2, 'dn': []}, {'tok': 'theoretical', 'tag': 'JJ', 'dep': 'amod', 'up': 2, 'dn': []}, {'tok': 'proof', 'tag': 'NN', 'dep': 'nsubj', 'up': 3, 'dn': [0, 1]}, {'tok': 'depends', 'tag': 'VBZ', 'dep': 'ccomp', 'up': 12, 'dn': [2, 4]}, {'tok': 'on', 'tag': 'IN', 'dep': 'prep', 'up': 3, 'dn': [7]}, {'tok': 'the', 'tag': 'DT', 'dep': 'det', 'up': 7, 'dn': []}, {'tok': 'convexity', 'tag': 'NN', 'dep': 'compound', 'up': 7, 'dn': []}, {'tok': 'assumption', 'tag': 'NN', 'dep': 'pobj', 'up': 4, 'dn': [5, 6]}, {'tok': ',', 'tag': ',', 'dep': 'punct', 'up': 12, 'dn': []}, {'tok': 'i', 'tag': 'PRP', 'dep': 'nsubj', 'up': 12, 'dn': []}, {'tok': 'would', 'tag': 'MD', 'dep': 'aux', 'up': 12, 'dn': []}, {'tok': 'also', 'tag': 'RB', 'dep': 'advmod', 'up': 12, 'dn': []}, {'tok': 'suggest', 'tag': 'VB', 'dep': 'ROOT', 'dn': [3, 8, 9, 10, 11, 13, 30]}, {'tok': 'comparing', 'tag': 'VBG', 'dep': 'xcomp', 'up': 12, 'dn': [16]}, {'tok': 'the', 'tag': 'DT', 'dep': 'det', 'up': 16, 'dn': []}, {'tok': 'proposed', 'tag': 'VBN', 'dep': 'amod', 'up': 16, 'dn': []}, {'tok': 'attack', 'tag': 'NN', 'dep': 'dobj', 'up': 13, 'dn': [14, 15, 17, 22]}, {'tok': 'with', 'tag': 'IN', 'dep': 'prep', 'up': 16, 'dn': [18]}, {'tok': 'cw', 'tag': 'NNP', 'dep': 'pobj', 'up': 17, 'dn': [19, 21]}, {'tok': 'and', 'tag': 'CC', 'dep': 'cc', 'up': 18, 'dn': []}, {'tok': 'other', 'tag': 'JJ', 'dep': 'amod', 'up': 21, 'dn': []}, {'tok': 'benchmarks', 'tag': 'NNS', 'dep': 'conj', 'up': 18, 'dn': [20]}, {'tok': 'on', 'tag': 'IN', 'dep': 'prep', 'up': 16, 'dn': [25]}, {'tok': 'some', 'tag': 'DT', 'dep': 'det', 'up': 25, 'dn': []}, {'tok': 'simple', 'tag': 'JJ', 'dep': 'amod', 'up': 25, 'dn': []}, {'tok': 'models', 'tag': 'NNS', 'dep': 'pobj', 'up': 22, 'dn': [23, 24, 27]}, {'tok': 'that', 'tag': 'WDT', 'dep': 'nsubj', 'up': 27, 'dn': []}, {'tok': 'satisfy', 'tag': 'VBP', 'dep': 'relcl', 'up': 25, 'dn': [26, 29]}, {'tok': 'the', 'tag': 'DT', 'dep': 'det', 'up': 29, 'dn': []}, {'tok': 'assumptions', 'tag': 'NNS', 'dep': 'dobj', 'up': 27, 'dn': [28]}, {'tok': '.', 'tag': '.', 'dep': 'punct', 'up': 12, 'dn': []}]}]   \n",
       "\n",
       "                                                                                                                                                                                                                                                                                                                                                                                                                                                                                                                                                                                                                                                                                                                                                                                                                                                                                                                                                                                                                  meta.politeness_markers  \\\n",
       "id                                                                                                                                                                                                                                                                                                                                                                                                                                                                                                                                                                                                                                                                                                                                                                                                                                                                                                                                                                                                                                          \n",
       "NaN  {'politeness_markers_==Please==': [], 'politeness_markers_==Please_start==': [], 'politeness_markers_==HASHEDGE==': [[('suggest', 0, 12)]], 'politeness_markers_==Indirect_(btw)==': [], 'politeness_markers_==Hedges==': [[('i', 0, 9), ('suggest', 0, 12)]], 'politeness_markers_==Factuality==': [], 'politeness_markers_==Deference==': [], 'politeness_markers_==Gratitude==': [], 'politeness_markers_==Apologizing==': [], 'politeness_markers_==1st_person_pl.==': [], 'politeness_markers_==1st_person==': [[('i', 0, 9)]], 'politeness_markers_==1st_person_start==': [], 'politeness_markers_==2nd_person==': [], 'politeness_markers_==2nd_person_start==': [], 'politeness_markers_==Indirect_(greeting)==': [], 'politeness_markers_==Direct_question==': [], 'politeness_markers_==Direct_start==': [], 'politeness_markers_==HASPOSITIVE==': [[('satisfy', 0, 27)]], 'politeness_markers_==HASNEGATIVE==': [[('attack', 0, 16)]], 'politeness_markers_==SUBJUNCTIVE==': [], 'politeness_markers_==INDICATIVE==': []}   \n",
       "\n",
       "                                                                                                                                                                                                                                                                                                                                                                                                                                                                                                                                                                                                                                                                                                                                                                                                                                                                                 meta.politeness_strategies  \n",
       "id                                                                                                                                                                                                                                                                                                                                                                                                                                                                                                                                                                                                                                                                                                                                                                                                                                                                                                           \n",
       "NaN  {'feature_politeness_==Please==': 0, 'feature_politeness_==Please_start==': 0, 'feature_politeness_==HASHEDGE==': 1, 'feature_politeness_==Indirect_(btw)==': 0, 'feature_politeness_==Hedges==': 1, 'feature_politeness_==Factuality==': 0, 'feature_politeness_==Deference==': 0, 'feature_politeness_==Gratitude==': 0, 'feature_politeness_==Apologizing==': 0, 'feature_politeness_==1st_person_pl.==': 0, 'feature_politeness_==1st_person==': 1, 'feature_politeness_==1st_person_start==': 0, 'feature_politeness_==2nd_person==': 0, 'feature_politeness_==2nd_person_start==': 0, 'feature_politeness_==Indirect_(greeting)==': 0, 'feature_politeness_==Direct_question==': 0, 'feature_politeness_==Direct_start==': 0, 'feature_politeness_==HASPOSITIVE==': 1, 'feature_politeness_==HASNEGATIVE==': 1, 'feature_politeness_==SUBJUNCTIVE==': 0, 'feature_politeness_==INDICATIVE==': 0}  "
      ]
     },
     "execution_count": 36,
     "metadata": {},
     "output_type": "execute_result"
    }
   ],
   "source": [
    "pair = all_pairs[9]\n",
    "\n",
    "df = get_convokit_politeness_labels(pair)\n",
    "\n",
    "# len(all_pairs[1]['review_sentences'])\n",
    "df"
   ]
  }
 ],
 "metadata": {
  "kernelspec": {
   "display_name": "Python 3 (ipykernel)",
   "language": "python",
   "name": "python3"
  },
  "language_info": {
   "codemirror_mode": {
    "name": "ipython",
    "version": 3
   },
   "file_extension": ".py",
   "mimetype": "text/x-python",
   "name": "python",
   "nbconvert_exporter": "python",
   "pygments_lexer": "ipython3",
   "version": "3.9.6"
  }
 },
 "nbformat": 4,
 "nbformat_minor": 5
}
